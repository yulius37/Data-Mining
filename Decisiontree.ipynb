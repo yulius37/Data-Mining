{
  "nbformat": 4,
  "nbformat_minor": 0,
  "metadata": {
    "colab": {
      "name": "Decisiontree.ipynb",
      "provenance": [],
      "authorship_tag": "ABX9TyO1rH4sozqatwN5sutx0cI2"
    },
    "kernelspec": {
      "name": "python3",
      "display_name": "Python 3"
    },
    "language_info": {
      "name": "python"
    }
  },
  "cells": [
    {
      "cell_type": "code",
      "metadata": {
        "id": "rFA5dwlfgcwE"
      },
      "source": [
        "import numpy as np\n",
        "import pandas as pd\n",
        "from sklearn import tree"
      ],
      "execution_count": 1,
      "outputs": []
    },
    {
      "cell_type": "code",
      "metadata": {
        "id": "Id_hO1yAglFS"
      },
      "source": [
        "irisDataset = pd.read_csv('Iris.csv',delimiter=',', header=0)\n",
        "irisDataset[\"Species\"] = pd.factorize(irisDataset.Species)[0]\n",
        "irisDataset = irisDataset.drop(labels='Id',axis=1)\n",
        "irisDataset = irisDataset.to_numpy()"
      ],
      "execution_count": 2,
      "outputs": []
    },
    {
      "cell_type": "code",
      "metadata": {
        "id": "OrXkT2iugk9h"
      },
      "source": [
        "dataTraining = np.concatenate((irisDataset[0:40,:],\n",
        "                               irisDataset[50:90,:]), axis = 0)\n",
        "dataTesting = np.concatenate((irisDataset[40:50,:],\n",
        "                               irisDataset[90:100,:]), axis = 0)\n",
        "inputTraining = dataTraining[:,0:4]\n",
        "inputTesting = dataTesting[:,0:4]\n",
        "labelTraining = dataTraining[:,4]\n",
        "labelTesting = dataTesting[:,4]"
      ],
      "execution_count": 3,
      "outputs": []
    },
    {
      "cell_type": "code",
      "metadata": {
        "colab": {
          "base_uri": "https://localhost:8080/"
        },
        "id": "GYySmRoCgkzG",
        "outputId": "0c5b2523-1b91-4fb8-9518-959e11661f76"
      },
      "source": [
        "model = tree.DecisionTreeClassifier()\n",
        "model = model.fit(inputTraining, labelTraining)\n",
        "hasilPrediksi = model.predict(inputTesting)\n",
        "print(\"Label Sebenarnya = \",labelTesting)\n",
        "print(\"Hasil Prediksi = \",hasilPrediksi)\n",
        "prediksiBenar = (hasilPrediksi == labelTesting).sum()\n",
        "prediksiSalah = (hasilPrediksi != labelTesting).sum()\n",
        "print(\"Prediksi Benar = \",prediksiBenar,\"data\")\n",
        "print(\"Prediksi Salah = \",prediksiSalah,\"data\")\n",
        "print(\"akurasi = \",prediksiBenar/(prediksiBenar+prediksiSalah)* 100,\"%\")"
      ],
      "execution_count": 4,
      "outputs": [
        {
          "output_type": "stream",
          "text": [
            "Label Sebenarnya =  [0. 0. 0. 0. 0. 0. 0. 0. 0. 0.]\n",
            "Hasil Prediksi =  [0. 0. 0. 0. 0. 0. 0. 0. 0. 0.]\n",
            "Prediksi Benar =  10 data\n",
            "Prediksi Salah =  0 data\n",
            "akurasi =  100.0 %\n"
          ],
          "name": "stdout"
        }
      ]
    }
  ]
}