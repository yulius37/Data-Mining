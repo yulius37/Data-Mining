{
  "nbformat": 4,
  "nbformat_minor": 0,
  "metadata": {
    "colab": {
      "name": "preprocessing.ipynb",
      "provenance": [],
      "collapsed_sections": [],
      "toc_visible": true,
      "authorship_tag": "ABX9TyMz1GZA+4diPnxwKg8rlMLk",
      "include_colab_link": true
    },
    "kernelspec": {
      "name": "python3",
      "display_name": "Python 3"
    }
  },
  "cells": [
    {
      "cell_type": "markdown",
      "metadata": {
        "id": "view-in-github",
        "colab_type": "text"
      },
      "source": [
        "<a href=\"https://colab.research.google.com/github/yulius37/Data-Mining/blob/main/preprocessing.ipynb\" target=\"_parent\"><img src=\"https://colab.research.google.com/assets/colab-badge.svg\" alt=\"Open In Colab\"/></a>"
      ]
    },
    {
      "cell_type": "code",
      "metadata": {
        "id": "7pTaXsOlMYqu"
      },
      "source": [
        "import numpy as np\r\n",
        "import matplotlib.pyplot as plt\r\n",
        "import pandas as pd\r\n"
      ],
      "execution_count": null,
      "outputs": []
    },
    {
      "cell_type": "code",
      "metadata": {
        "id": "FGw-H-WFQm6J"
      },
      "source": [
        "dataset = pd.read_csv('DATAMINING1.csv')\r\n",
        "x = dataset.iloc[:, :-1].values\r\n",
        "y = dataset.iloc[:, -1].values"
      ],
      "execution_count": null,
      "outputs": []
    },
    {
      "cell_type": "code",
      "metadata": {
        "colab": {
          "base_uri": "https://localhost:8080/"
        },
        "id": "ntz_yhb_S8UH",
        "outputId": "9a1f2655-d9bb-433f-99da-254e349a8c9e"
      },
      "source": [
        "print(x)"
      ],
      "execution_count": null,
      "outputs": [
        {
          "output_type": "stream",
          "text": [
            "[['Jarum' 10.0 72000.0]\n",
            " ['Super' 80.0 48000.0]\n",
            " ['Gudang' 40.0 54000.0]\n",
            " ['Jarum' 50.0 61000.0]\n",
            " ['Super' 60.0 nan]\n",
            " ['Gudang' 30.0 58000.0]\n",
            " ['Jarum' 20.0 10000.0]\n",
            " ['Super' nan 79000.0]\n",
            " ['Gudang' 55.0 83000.0]\n",
            " ['Jarum' 90.0 67000.0]]\n"
          ],
          "name": "stdout"
        }
      ]
    },
    {
      "cell_type": "code",
      "metadata": {
        "colab": {
          "base_uri": "https://localhost:8080/"
        },
        "id": "mmynPs1AT9Ju",
        "outputId": "cf0f0fcb-37a4-480e-b4fb-2419a22f8364"
      },
      "source": [
        "print(y)"
      ],
      "execution_count": null,
      "outputs": [
        {
          "output_type": "stream",
          "text": [
            "['No' 'Yes' 'No' 'No' 'Yes' 'Yes' 'No' 'Yes' 'No' 'Yes']\n"
          ],
          "name": "stdout"
        }
      ]
    },
    {
      "cell_type": "code",
      "metadata": {
        "id": "agsYnjCsUtG4"
      },
      "source": [
        "from sklearn.impute import SimpleImputer\r\n",
        "imputer = SimpleImputer(missing_values=np.nan, strategy='mean')\r\n",
        "imputer.fit(x[:, 1:3])\r\n",
        "x[:, 1:3] = imputer.transform(x[:, 1:3])"
      ],
      "execution_count": null,
      "outputs": []
    },
    {
      "cell_type": "code",
      "metadata": {
        "colab": {
          "base_uri": "https://localhost:8080/"
        },
        "id": "pAzyRGJAVWH9",
        "outputId": "cb622489-8e45-44bf-802b-927420d933d5"
      },
      "source": [
        "print(x)"
      ],
      "execution_count": null,
      "outputs": [
        {
          "output_type": "stream",
          "text": [
            "[['Jarum' 10.0 72000.0]\n",
            " ['Super' 80.0 48000.0]\n",
            " ['Gudang' 40.0 54000.0]\n",
            " ['Jarum' 50.0 61000.0]\n",
            " ['Super' 60.0 59111.11111111111]\n",
            " ['Gudang' 30.0 58000.0]\n",
            " ['Jarum' 20.0 10000.0]\n",
            " ['Super' 48.333333333333336 79000.0]\n",
            " ['Gudang' 55.0 83000.0]\n",
            " ['Jarum' 90.0 67000.0]]\n"
          ],
          "name": "stdout"
        }
      ]
    },
    {
      "cell_type": "code",
      "metadata": {
        "id": "MJhfqrhuV-wN"
      },
      "source": [
        "from sklearn.compose import ColumnTransformer\r\n",
        "from sklearn.preprocessing import OneHotEncoder\r\n",
        "ct = ColumnTransformer(transformers=[('encoder',OneHotEncoder(),[0])], remainder='passthrough')\r\n",
        "x = np.array(ct.fit_transform(x))"
      ],
      "execution_count": null,
      "outputs": []
    },
    {
      "cell_type": "code",
      "metadata": {
        "colab": {
          "base_uri": "https://localhost:8080/"
        },
        "id": "MVsJAkUMWpys",
        "outputId": "a0d5b8d4-7ebf-4fe1-ca9a-a13dd3dc43b6"
      },
      "source": [
        "print(x)"
      ],
      "execution_count": null,
      "outputs": [
        {
          "output_type": "stream",
          "text": [
            "[[0.0 1.0 0.0 10.0 72000.0]\n",
            " [0.0 0.0 1.0 80.0 48000.0]\n",
            " [1.0 0.0 0.0 40.0 54000.0]\n",
            " [0.0 1.0 0.0 50.0 61000.0]\n",
            " [0.0 0.0 1.0 60.0 59111.11111111111]\n",
            " [1.0 0.0 0.0 30.0 58000.0]\n",
            " [0.0 1.0 0.0 20.0 10000.0]\n",
            " [0.0 0.0 1.0 48.333333333333336 79000.0]\n",
            " [1.0 0.0 0.0 55.0 83000.0]\n",
            " [0.0 1.0 0.0 90.0 67000.0]]\n"
          ],
          "name": "stdout"
        }
      ]
    },
    {
      "cell_type": "code",
      "metadata": {
        "id": "Hnn8QkBCWxw1"
      },
      "source": [
        "from sklearn.preprocessing import LabelEncoder\r\n",
        "le = LabelEncoder()\r\n",
        "y = le.fit_transform(y)"
      ],
      "execution_count": null,
      "outputs": []
    },
    {
      "cell_type": "code",
      "metadata": {
        "colab": {
          "base_uri": "https://localhost:8080/"
        },
        "id": "D2rN1TOsXARZ",
        "outputId": "54b82013-21e4-48dc-9d6b-867f0a7048f5"
      },
      "source": [
        "print(y)"
      ],
      "execution_count": null,
      "outputs": [
        {
          "output_type": "stream",
          "text": [
            "[0 1 0 0 1 1 0 1 0 1]\n"
          ],
          "name": "stdout"
        }
      ]
    },
    {
      "cell_type": "code",
      "metadata": {
        "id": "Cyv7n4MlXE2d"
      },
      "source": [
        "from sklearn.model_selection import train_test_split\r\n",
        "x_train, x_test, y_train, y_test = train_test_split(x, y, test_size = 0.2, random_state = 1)"
      ],
      "execution_count": null,
      "outputs": []
    },
    {
      "cell_type": "code",
      "metadata": {
        "id": "4Lk3fBy0YS6F",
        "colab": {
          "base_uri": "https://localhost:8080/"
        },
        "outputId": "638b7d5b-0e83-4ddc-8fea-663b0dce824d"
      },
      "source": [
        "print(x_train)"
      ],
      "execution_count": null,
      "outputs": [
        {
          "output_type": "stream",
          "text": [
            "[[0.0 1.0 0.0 20.0 10000.0]\n",
            " [0.0 0.0 1.0 60.0 59111.11111111111]\n",
            " [0.0 1.0 0.0 10.0 72000.0]\n",
            " [0.0 1.0 0.0 50.0 61000.0]\n",
            " [0.0 0.0 1.0 80.0 48000.0]\n",
            " [0.0 0.0 1.0 48.333333333333336 79000.0]\n",
            " [1.0 0.0 0.0 55.0 83000.0]\n",
            " [1.0 0.0 0.0 30.0 58000.0]]\n"
          ],
          "name": "stdout"
        }
      ]
    },
    {
      "cell_type": "code",
      "metadata": {
        "id": "ZPAgXWXNYzYN",
        "colab": {
          "base_uri": "https://localhost:8080/"
        },
        "outputId": "d220308a-0d44-4187-8cc8-d857cadcfacd"
      },
      "source": [
        "print(x_test)"
      ],
      "execution_count": null,
      "outputs": [
        {
          "output_type": "stream",
          "text": [
            "[[1.0 0.0 0.0 40.0 54000.0]\n",
            " [0.0 1.0 0.0 90.0 67000.0]]\n"
          ],
          "name": "stdout"
        }
      ]
    },
    {
      "cell_type": "code",
      "metadata": {
        "id": "SX_YfJlOY3Jb",
        "colab": {
          "base_uri": "https://localhost:8080/"
        },
        "outputId": "43c384b2-eb52-429b-9b7c-451377061781"
      },
      "source": [
        "print(y_train)"
      ],
      "execution_count": null,
      "outputs": [
        {
          "output_type": "stream",
          "text": [
            "[0 1 0 0 1 1 0 1]\n"
          ],
          "name": "stdout"
        }
      ]
    },
    {
      "cell_type": "code",
      "metadata": {
        "id": "_ug268VCY3TW",
        "colab": {
          "base_uri": "https://localhost:8080/"
        },
        "outputId": "926b5e63-4d1b-402e-9cdf-6c8ceafc70a3"
      },
      "source": [
        "print(y_test)"
      ],
      "execution_count": null,
      "outputs": [
        {
          "output_type": "stream",
          "text": [
            "[0 1]\n"
          ],
          "name": "stdout"
        }
      ]
    },
    {
      "cell_type": "code",
      "metadata": {
        "id": "BTPAS3SGZe03"
      },
      "source": [
        "from sklearn.preprocessing import StandardScaler\r\n",
        "sc = StandardScaler()\r\n",
        "x_train[:, 3:] = sc.fit_transform(x_train[:, 3:])\r\n",
        "x_test[:, 3:] = sc.transform(x_test[:, 3:])"
      ],
      "execution_count": null,
      "outputs": []
    },
    {
      "cell_type": "code",
      "metadata": {
        "id": "BRx1Xtu6Z7CO",
        "colab": {
          "base_uri": "https://localhost:8080/"
        },
        "outputId": "6840d370-644e-40d9-b970-dcec6caa6d92"
      },
      "source": [
        "print(x_train)"
      ],
      "execution_count": null,
      "outputs": [
        {
          "output_type": "stream",
          "text": [
            "[[0.0 1.0 0.0 -1.1305377045989031 -2.2762378235955425]\n",
            " [0.0 0.0 1.0 0.7406971168061781 0.016207902475046432]\n",
            " [0.0 1.0 0.0 -1.5983464099501734 0.6178452423487757]\n",
            " [0.0 1.0 0.0 0.2728884114549078 0.10437889193929993]\n",
            " [0.0 0.0 1.0 1.6763145275087186 -0.5024449767264442]\n",
            " [0.0 0.0 1.0 0.19492029389636284 0.9445965562457148]\n",
            " [1.0 0.0 0.0 0.506792764130543 1.1313115927582515]\n",
            " [1.0 0.0 0.0 -0.6627289992476328 -0.03565738544510256]]\n"
          ],
          "name": "stdout"
        }
      ]
    },
    {
      "cell_type": "code",
      "metadata": {
        "id": "L9cpQ2oaZ9yg",
        "colab": {
          "base_uri": "https://localhost:8080/"
        },
        "outputId": "79302d4c-7e6e-4de2-a59e-2fb1e671bad0"
      },
      "source": [
        "print(x_test)"
      ],
      "execution_count": null,
      "outputs": [
        {
          "output_type": "stream",
          "text": [
            "[[1.0 0.0 0.0 -0.1949202938963625 -0.2223724219576392]\n",
            " [0.0 1.0 0.0 2.144123232859989 0.3844514467081049]]\n"
          ],
          "name": "stdout"
        }
      ]
    }
  ]
}